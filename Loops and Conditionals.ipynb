{
 "cells": [
  {
   "cell_type": "code",
   "execution_count": 25,
   "id": "cbb134dd-18bc-437a-8b8b-5e4d6ea3fb72",
   "metadata": {},
   "outputs": [
    {
     "name": "stdin",
     "output_type": "stream",
     "text": [
      "Guess the number between 1 and 10:  0\n"
     ]
    },
    {
     "name": "stdout",
     "output_type": "stream",
     "text": [
      "too low\n"
     ]
    }
   ],
   "source": [
    "# 4.1\n",
    "\n",
    "secret = 5\n",
    "guess = int(input('Guess the number between 1 and 10: '))\n",
    "\n",
    "if guess == secret:\n",
    "    print('just right')\n",
    "elif guess > secret:\n",
    "    print('too high')\n",
    "else:\n",
    "    print('too low')"
   ]
  },
  {
   "cell_type": "code",
   "execution_count": 47,
   "id": "fd70d036-be60-4551-b8f3-a3ddfb67a39c",
   "metadata": {},
   "outputs": [
    {
     "name": "stdout",
     "output_type": "stream",
     "text": [
      "pumpkin\n"
     ]
    }
   ],
   "source": [
    "#4.2\n",
    "\n",
    "small = False\n",
    "green = False\n",
    "\n",
    "if small == True and green == True:\n",
    "    print('pea')\n",
    "elif small == True and green == False:\n",
    "    print('cherry')\n",
    "elif small == False and green == True:\n",
    "    print('watermelon')\n",
    "elif small == False and green == False:\n",
    "    print('pumpkin')"
   ]
  },
  {
   "cell_type": "code",
   "execution_count": 9,
   "id": "25cc59c6-ce4a-4f57-aa00-41fbab431a31",
   "metadata": {},
   "outputs": [
    {
     "name": "stdout",
     "output_type": "stream",
     "text": [
      "3\n",
      "2\n",
      "1\n",
      "0\n"
     ]
    }
   ],
   "source": [
    "# 6.1\n",
    "\n",
    "for x in reversed(range(4)):\n",
    "    print(x)"
   ]
  },
  {
   "cell_type": "code",
   "execution_count": 39,
   "id": "acd670b3-5440-4b9f-b0e8-5b21f84cca32",
   "metadata": {},
   "outputs": [
    {
     "name": "stdout",
     "output_type": "stream",
     "text": [
      "too low\n",
      "too low\n",
      "too low\n",
      "too low\n",
      "too low\n",
      "too low\n",
      "found it\n"
     ]
    }
   ],
   "source": [
    "#6.2\n",
    "\n",
    "guess_me = 7\n",
    "number = 1\n",
    "\n",
    "while number < guess_me:\n",
    "    print('too low')\n",
    "    number += 1\n",
    "    if number == guess_me:\n",
    "        print('found it')\n",
    "    \n",
    "if number > guess_me:\n",
    "    print('oops')"
   ]
  },
  {
   "cell_type": "code",
   "execution_count": 43,
   "id": "bbba66a0-9781-48fe-8b2c-45974520afea",
   "metadata": {},
   "outputs": [
    {
     "name": "stdout",
     "output_type": "stream",
     "text": [
      "too low\n",
      "too low\n",
      "too low\n",
      "too low\n",
      "too low\n",
      "found it\n"
     ]
    }
   ],
   "source": [
    "# 6.3\n",
    "\n",
    "guess_me = 5\n",
    "\n",
    "for number in range(10):\n",
    "    if number < guess_me:\n",
    "        print('too low')\n",
    "    elif number == guess_me:\n",
    "        print('found it')\n",
    "        break\n",
    "    else:\n",
    "        print('too high')\n",
    "        break"
   ]
  }
 ],
 "metadata": {
  "kernelspec": {
   "display_name": "Python 3 (ipykernel)",
   "language": "python",
   "name": "python3"
  },
  "language_info": {
   "codemirror_mode": {
    "name": "ipython",
    "version": 3
   },
   "file_extension": ".py",
   "mimetype": "text/x-python",
   "name": "python",
   "nbconvert_exporter": "python",
   "pygments_lexer": "ipython3",
   "version": "3.12.4"
  }
 },
 "nbformat": 4,
 "nbformat_minor": 5
}
