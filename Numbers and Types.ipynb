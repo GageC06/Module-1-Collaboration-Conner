{
 "cells": [
  {
   "cell_type": "code",
   "execution_count": 5,
   "id": "e530ef5e-7af7-40d3-adc6-d0efd8bb07d3",
   "metadata": {},
   "outputs": [
    {
     "name": "stdout",
     "output_type": "stream",
     "text": [
      "3600\n"
     ]
    }
   ],
   "source": [
    "# 3.1\n",
    "minutes = 60\n",
    "hour = 60\n",
    "seconds_per_hour = minutes * hour\n",
    "print(seconds_per_hour)"
   ]
  },
  {
   "cell_type": "code",
   "execution_count": 7,
   "id": "7b491b4c-b617-4445-8387-b019f5af3d5b",
   "metadata": {},
   "outputs": [
    {
     "name": "stdout",
     "output_type": "stream",
     "text": [
      "86400\n"
     ]
    }
   ],
   "source": [
    "seconds_per_day = seconds_per_hour * 24\n",
    "print(seconds_per_day)"
   ]
  },
  {
   "cell_type": "code",
   "execution_count": 9,
   "id": "cf6e09a1-0e5a-4382-9ae6-40cee9dfcd8b",
   "metadata": {},
   "outputs": [
    {
     "name": "stdout",
     "output_type": "stream",
     "text": [
      "24.0\n"
     ]
    }
   ],
   "source": [
    "flt_days = seconds_per_day/seconds_per_hour\n",
    "print(flt_days)"
   ]
  },
  {
   "cell_type": "code",
   "execution_count": 11,
   "id": "eb0cad48-1d65-43b6-994c-a54813436f8c",
   "metadata": {},
   "outputs": [
    {
     "name": "stdout",
     "output_type": "stream",
     "text": [
      "24\n"
     ]
    }
   ],
   "source": [
    "int_days = seconds_per_day//seconds_per_hour\n",
    "print(int_days)"
   ]
  },
  {
   "cell_type": "code",
   "execution_count": 13,
   "id": "67848f5e-a768-49ad-8d55-78e8807bffad",
   "metadata": {},
   "outputs": [
    {
     "data": {
      "text/plain": [
       "True"
      ]
     },
     "execution_count": 13,
     "metadata": {},
     "output_type": "execute_result"
    }
   ],
   "source": [
    "int_days == flt_days"
   ]
  },
  {
   "cell_type": "code",
   "execution_count": null,
   "id": "a326ad00-8c48-4cb3-9f8e-fac6faad7c0f",
   "metadata": {},
   "outputs": [],
   "source": [
    "Yes this does agree with the value from previous."
   ]
  }
 ],
 "metadata": {
  "kernelspec": {
   "display_name": "Python 3 (ipykernel)",
   "language": "python",
   "name": "python3"
  },
  "language_info": {
   "codemirror_mode": {
    "name": "ipython",
    "version": 3
   },
   "file_extension": ".py",
   "mimetype": "text/x-python",
   "name": "python",
   "nbconvert_exporter": "python",
   "pygments_lexer": "ipython3",
   "version": "3.12.4"
  }
 },
 "nbformat": 4,
 "nbformat_minor": 5
}
